{
 "cells": [
  {
   "cell_type": "markdown",
   "metadata": {},
   "source": [
    "# Zahra Khatibi - 610398119 - PSO Algorithm"
   ]
  },
  {
   "cell_type": "markdown",
   "metadata": {},
   "source": [
    "## finding point that g(x,y) < $-1.7 * 10 ^{6}$ s.t"
   ]
  },
  {
   "cell_type": "markdown",
   "metadata": {},
   "source": [
    "## $$ g(x,y) = x \\sin{(\\pi \\cos(x) \\tan(y))} \\frac{\\sin{(\\frac{y}{x}})}{1+\\cos{(\\frac{y}{x}})} $$"
   ]
  },
  {
   "cell_type": "markdown",
   "metadata": {},
   "source": [
    "### $$ -100 \\leq x,y \\leq 100 $$"
   ]
  },
  {
   "cell_type": "markdown",
   "metadata": {},
   "source": [
    "<img src=\"picg.png\" alt=\"Example Image\" width=\"40%\">"
   ]
  },
  {
   "cell_type": "code",
   "execution_count": null,
   "metadata": {},
   "outputs": [],
   "source": [
    "import math\n",
    "from mpmath import mp\n",
    "import random\n",
    "import numpy as np"
   ]
  },
  {
   "cell_type": "code",
   "execution_count": 77,
   "metadata": {},
   "outputs": [],
   "source": [
    "def g(x,y):\n",
    "    mp.dps = 100\n",
    "    t = mp.sin(y/x)/(1+mp.cos(y/x))\n",
    "    r = x * mp.sin(mp.pi * mp.cos(x) * mp.tan(y))\n",
    "    return r*t"
   ]
  },
  {
   "cell_type": "code",
   "execution_count": 78,
   "metadata": {},
   "outputs": [],
   "source": [
    "c = 0.001\n",
    "c1 = 0.5\n",
    "c2 = 1.6\n",
    "x0 = random.uniform(-100,100)\n",
    "y0 = random.uniform(-100,100)\n",
    "gbest = np.array(list([x0,y0]))\n",
    "fitness_gbest = g(gbest[0],gbest[1])\n",
    "particle_size = 300\n",
    "particle_list = []"
   ]
  },
  {
   "cell_type": "code",
   "execution_count": 79,
   "metadata": {},
   "outputs": [],
   "source": [
    "class patricle:\n",
    "    def __init__(self, x , y , v0):\n",
    "        self.fitness = g(x,y)\n",
    "        self.position = np.array(list([x,y]))\n",
    "        self.pbest = np.array(list([x,y]))\n",
    "        self.fitness_pbest = self.fitness\n",
    "        self.v = v0"
   ]
  },
  {
   "cell_type": "code",
   "execution_count": 80,
   "metadata": {},
   "outputs": [],
   "source": [
    "def move(p):\n",
    "    global gbest\n",
    "    global fitness_gbest\n",
    "    r1 = random.uniform(0,1)\n",
    "    r2 = random.uniform(0,1)\n",
    "    v1 = (c * p.v)%200 + (c1 * r1 * (p.pbest - p.position)) + (c2 * r2 * (gbest - p.position)) \n",
    "    p.v = v1\n",
    "    p.position += v1\n",
    "    \n",
    "    if (p.position[0] > 100):\n",
    "        p.position[0] = p.position[0] % 100\n",
    "    \n",
    "    elif (p.position[0] < -100):\n",
    "        p.position[0] = p.position[0] % -100 \n",
    "     \n",
    "    if (p.position[1] > 100):\n",
    "        p.position[1] = p.position[1] % 100\n",
    "    \n",
    "    elif (p.position[1] < -100):\n",
    "        p.position[1] = p.position[1] % -100\n",
    "       \n",
    "    p.fitness = g(p.position[0], p.position[1])\n",
    "    \n",
    "    if(p.fitness < p.fitness_pbest):\n",
    "        p.fitness_pbest = p.fitness\n",
    "        p.pbest = p.position\n",
    "        \n",
    "    if(p.fitness < fitness_gbest):\n",
    "        fitness_gbest = p.fitness\n",
    "        gbest = p.position\n",
    "    \n",
    "    return p"
   ]
  },
  {
   "cell_type": "code",
   "execution_count": 81,
   "metadata": {},
   "outputs": [],
   "source": [
    "for i in range(particle_size):\n",
    "    x = random.uniform(-100,100)\n",
    "    y = random.uniform(-100,100)\n",
    "    v_x = random.uniform(-100,100)\n",
    "    v_y = random.uniform(-100,100)\n",
    "    v = np.array(list([v_x , v_y]))\n",
    "    p = patricle(x,y,v)\n",
    "    particle_list.append(p)"
   ]
  },
  {
   "cell_type": "code",
   "execution_count": 82,
   "metadata": {},
   "outputs": [
    {
     "name": "stdout",
     "output_type": "stream",
     "text": [
      "x: 18.767472766794338 y: 58.53095938692204 \n",
      "\n",
      "-12982371.63118792210429968174487059944943097679494551949024399809043920113475995410774071033930938015\n",
      "------ \n",
      "\n",
      "x: 18.767472766794338 y: 58.53095938692204 \n",
      "\n",
      "-12982371.63118792210429968174487059944943097679494551949024399809043920113475995410774071033930938015\n",
      "------ \n",
      "\n",
      "x: 18.767472766794338 y: 58.53095938692204 \n",
      "\n",
      "-12982371.63118792210429968174487059944943097679494551949024399809043920113475995410774071033930938015\n",
      "------ \n",
      "\n"
     ]
    }
   ],
   "source": [
    "counter = 0 \n",
    "while(fitness_gbest > -17000000):\n",
    "    for p in particle_list:\n",
    "        move(p)\n",
    "        counter +=1\n",
    "    if(counter %5000 == 0):\n",
    "        print(\"x:\" , gbest[0] , \"y:\" , gbest[1] , \"\\n\")\n",
    "        print(fitness_gbest)\n",
    "        print(\"------\",\"\\n\")"
   ]
  },
  {
   "cell_type": "code",
   "execution_count": 84,
   "metadata": {},
   "outputs": [
    {
     "name": "stdout",
     "output_type": "stream",
     "text": [
      "x: 18.695130499592523 , y: 58.73252210353191 \n",
      "\n",
      "g(x,y): -17824430.8583122993116316104996459773476221877126011344851533059029036274487122136416552749909868296\n"
     ]
    }
   ],
   "source": [
    "print(\"x:\" , gbest[0] , \", y:\" , gbest[1] , \"\\n\")\n",
    "print(\"g(x,y):\" , fitness_gbest)"
   ]
  }
 ],
 "metadata": {
  "kernelspec": {
   "display_name": "Python 3",
   "language": "python",
   "name": "python3"
  },
  "language_info": {
   "codemirror_mode": {
    "name": "ipython",
    "version": 3
   },
   "file_extension": ".py",
   "mimetype": "text/x-python",
   "name": "python",
   "nbconvert_exporter": "python",
   "pygments_lexer": "ipython3",
   "version": "3.8.3"
  }
 },
 "nbformat": 4,
 "nbformat_minor": 4
}
