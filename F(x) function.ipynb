{
 "cells": [
  {
   "cell_type": "markdown",
   "metadata": {},
   "source": [
    "# Zahra Khatibi - 610398119 - PSO Algorithm"
   ]
  },
  {
   "cell_type": "markdown",
   "metadata": {},
   "source": [
    "## finding point that f(x,y) > 19.2 s.t"
   ]
  },
  {
   "cell_type": "markdown",
   "metadata": {},
   "source": [
    "# $$ f(x,y) = |\\sin{x}\\cos{y}\\exp{(|1 - \\frac{\\sqrt{x^2+y^2}}{\\pi}|)}|$$"
   ]
  },
  {
   "cell_type": "markdown",
   "metadata": {},
   "source": [
    "### $$ -10 \\leq x,y \\leq 10 $$"
   ]
  },
  {
   "cell_type": "markdown",
   "metadata": {},
   "source": [
    "![Example Image](picf.png)"
   ]
  },
  {
   "cell_type": "code",
   "execution_count": 404,
   "metadata": {},
   "outputs": [],
   "source": [
    "import math\n",
    "from mpmath import mp\n",
    "import random\n",
    "import numpy as np"
   ]
  },
  {
   "cell_type": "code",
   "execution_count": 405,
   "metadata": {},
   "outputs": [],
   "source": [
    "def f(x,y):\n",
    "    mp.dps = 100\n",
    "    t = abs(1-(mp.sqrt(x**2 + y**2)/mp.pi))\n",
    "    r = abs(mp.sin(x)*(mp.cos(y))*mp.exp(t))\n",
    "    return r"
   ]
  },
  {
   "cell_type": "code",
   "execution_count": 406,
   "metadata": {},
   "outputs": [],
   "source": [
    "c = 0.001\n",
    "c1 = 1.1\n",
    "c2 = 1.5\n",
    "x0 = random.uniform(-10,10)\n",
    "y0 = random.uniform(-10,10)\n",
    "gbest = np.array(list([x0,y0]))\n",
    "fitness_gbest = f(gbest[0],gbest[1])\n",
    "particle_size = 100\n",
    "particle_list = []"
   ]
  },
  {
   "cell_type": "code",
   "execution_count": 407,
   "metadata": {},
   "outputs": [],
   "source": [
    "class patricle:\n",
    "    def __init__(self, x , y , v0):\n",
    "        self.fitness = f(x,y)\n",
    "        self.position = np.array(list([x,y]))\n",
    "        self.pbest = np.array(list([x,y]))\n",
    "        self.fitness_pbest = self.fitness\n",
    "        self.v = v0"
   ]
  },
  {
   "cell_type": "code",
   "execution_count": 408,
   "metadata": {},
   "outputs": [],
   "source": [
    "def move(p):\n",
    "    global gbest\n",
    "    global fitness_gbest\n",
    "    r1 = random.uniform(0,1)\n",
    "    r2 = random.uniform(0,1)\n",
    "    v1 = (c * p.v)%20 + (c1 * r1 * (p.pbest - p.position)) + (c2 * r2 * (gbest - p.position)) \n",
    "    p.v = v1\n",
    "    p.position += v1\n",
    "    \n",
    "    if (p.position[0] > 10):\n",
    "        p.position[0] = p.position[0] % 10\n",
    "    \n",
    "    elif (p.position[0] < -10):\n",
    "        p.position[0] = p.position[0] % -10 \n",
    "     \n",
    "    if (p.position[1] > 10):\n",
    "        p.position[1] = p.position[1] % 10\n",
    "    \n",
    "    elif (p.position[1] < -10):\n",
    "        p.position[1] = p.position[1] % -10\n",
    "       \n",
    "    p.fitness = f(p.position[0], p.position[1])\n",
    "    \n",
    "    if(p.fitness > p.fitness_pbest):\n",
    "        p.fitness_pbest = p.fitness\n",
    "        p.pbest = p.position\n",
    "        \n",
    "    if(p.fitness > fitness_gbest):\n",
    "        fitness_gbest = p.fitness\n",
    "        gbest = p.position\n",
    "    \n",
    "    return p"
   ]
  },
  {
   "cell_type": "code",
   "execution_count": 409,
   "metadata": {},
   "outputs": [],
   "source": [
    "for i in range(particle_size):\n",
    "    x = random.uniform(-10,10)\n",
    "    y = random.uniform(-10,10)\n",
    "    v_x = random.uniform(-10,10)\n",
    "    v_y = random.uniform(-10,10)\n",
    "    v = np.array(list([v_x , v_y]))\n",
    "    p = patricle(x,y,v)\n",
    "    particle_list.append(p)"
   ]
  },
  {
   "cell_type": "code",
   "execution_count": 410,
   "metadata": {},
   "outputs": [
    {
     "name": "stdout",
     "output_type": "stream",
     "text": [
      "x: 8.045614714033007 y: 0.29730402426825403 \n",
      "\n",
      "19.1583054402198117895213915884149732171720320047379179765778343488118800868832618521307357814018294\n",
      "------ \n",
      "\n",
      "x: 8.045614751784388 y: 0.297324039636407 \n",
      "\n",
      "19.1583054402198117895213915884149732171720320047379179765778343488118800868832618521307357814018294\n",
      "------ \n",
      "\n",
      "x: 8.02892598251918 y: 9.696135260582821 \n",
      "\n",
      "19.19193067673358891555802060944699367470920409732478300988079361386107304024167116777465436954307858\n",
      "------ \n",
      "\n"
     ]
    }
   ],
   "source": [
    "counter = 0\n",
    "iterx = []\n",
    "itery = []\n",
    "while(fitness_gbest < 19.2):\n",
    "    for p in particle_list:\n",
    "        move(p)\n",
    "        counter +=1\n",
    "    if(counter %300 == 0):\n",
    "        iterx.append(np.array([p.position[0] for p in particle_list]))\n",
    "        itery.append(np.array([p.position[1] for p in particle_list]))\n",
    "        print(\"x:\" , gbest[0] , \"y:\" , gbest[1] , \"\\n\")\n",
    "        print(fitness_gbest)\n",
    "        print(\"------\",\"\\n\")"
   ]
  },
  {
   "cell_type": "code",
   "execution_count": 411,
   "metadata": {},
   "outputs": [
    {
     "name": "stdout",
     "output_type": "stream",
     "text": [
      "x: 8.071402674784325 , y: 9.673488795617631 \n",
      "\n",
      "f(x,y): 19.20501745729326584713767301790224152741909710703047082821246080567136154820236388378632208606661784\n"
     ]
    }
   ],
   "source": [
    "print(\"x:\" , gbest[0] , \", y:\" , gbest[1] , \"\\n\")\n",
    "print(\"f(x,y):\" , fitness_gbest)"
   ]
  }
 ],
 "metadata": {
  "kernelspec": {
   "display_name": "Python 3",
   "language": "python",
   "name": "python3"
  },
  "language_info": {
   "codemirror_mode": {
    "name": "ipython",
    "version": 3
   },
   "file_extension": ".py",
   "mimetype": "text/x-python",
   "name": "python",
   "nbconvert_exporter": "python",
   "pygments_lexer": "ipython3",
   "version": "3.8.3"
  }
 },
 "nbformat": 4,
 "nbformat_minor": 4
}
